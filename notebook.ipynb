{
 "cells": [
  {
   "cell_type": "code",
   "execution_count": 1,
   "metadata": {},
   "outputs": [],
   "source": [
    "import numpy as np\n",
    "import pandas as pd\n",
    "import matplotlib.pyplot as plt"
   ]
  },
  {
   "cell_type": "code",
   "execution_count": 2,
   "metadata": {},
   "outputs": [],
   "source": [
    "# read the data, we are using the training csv from Kaggle Digit Recognizer \n",
    "# https://www.kaggle.com/c/digit-recognizer/data\n",
    "data = pd.read_csv('train.csv')"
   ]
  },
  {
   "cell_type": "code",
   "execution_count": 3,
   "metadata": {},
   "outputs": [
    {
     "data": {
      "text/html": [
       "<div>\n",
       "<style scoped>\n",
       "    .dataframe tbody tr th:only-of-type {\n",
       "        vertical-align: middle;\n",
       "    }\n",
       "\n",
       "    .dataframe tbody tr th {\n",
       "        vertical-align: top;\n",
       "    }\n",
       "\n",
       "    .dataframe thead th {\n",
       "        text-align: right;\n",
       "    }\n",
       "</style>\n",
       "<table border=\"1\" class=\"dataframe\">\n",
       "  <thead>\n",
       "    <tr style=\"text-align: right;\">\n",
       "      <th></th>\n",
       "      <th>label</th>\n",
       "      <th>pixel0</th>\n",
       "      <th>pixel1</th>\n",
       "      <th>pixel2</th>\n",
       "      <th>pixel3</th>\n",
       "      <th>pixel4</th>\n",
       "      <th>pixel5</th>\n",
       "      <th>pixel6</th>\n",
       "      <th>pixel7</th>\n",
       "      <th>pixel8</th>\n",
       "      <th>...</th>\n",
       "      <th>pixel774</th>\n",
       "      <th>pixel775</th>\n",
       "      <th>pixel776</th>\n",
       "      <th>pixel777</th>\n",
       "      <th>pixel778</th>\n",
       "      <th>pixel779</th>\n",
       "      <th>pixel780</th>\n",
       "      <th>pixel781</th>\n",
       "      <th>pixel782</th>\n",
       "      <th>pixel783</th>\n",
       "    </tr>\n",
       "  </thead>\n",
       "  <tbody>\n",
       "    <tr>\n",
       "      <th>0</th>\n",
       "      <td>1</td>\n",
       "      <td>0</td>\n",
       "      <td>0</td>\n",
       "      <td>0</td>\n",
       "      <td>0</td>\n",
       "      <td>0</td>\n",
       "      <td>0</td>\n",
       "      <td>0</td>\n",
       "      <td>0</td>\n",
       "      <td>0</td>\n",
       "      <td>...</td>\n",
       "      <td>0</td>\n",
       "      <td>0</td>\n",
       "      <td>0</td>\n",
       "      <td>0</td>\n",
       "      <td>0</td>\n",
       "      <td>0</td>\n",
       "      <td>0</td>\n",
       "      <td>0</td>\n",
       "      <td>0</td>\n",
       "      <td>0</td>\n",
       "    </tr>\n",
       "    <tr>\n",
       "      <th>1</th>\n",
       "      <td>0</td>\n",
       "      <td>0</td>\n",
       "      <td>0</td>\n",
       "      <td>0</td>\n",
       "      <td>0</td>\n",
       "      <td>0</td>\n",
       "      <td>0</td>\n",
       "      <td>0</td>\n",
       "      <td>0</td>\n",
       "      <td>0</td>\n",
       "      <td>...</td>\n",
       "      <td>0</td>\n",
       "      <td>0</td>\n",
       "      <td>0</td>\n",
       "      <td>0</td>\n",
       "      <td>0</td>\n",
       "      <td>0</td>\n",
       "      <td>0</td>\n",
       "      <td>0</td>\n",
       "      <td>0</td>\n",
       "      <td>0</td>\n",
       "    </tr>\n",
       "    <tr>\n",
       "      <th>2</th>\n",
       "      <td>1</td>\n",
       "      <td>0</td>\n",
       "      <td>0</td>\n",
       "      <td>0</td>\n",
       "      <td>0</td>\n",
       "      <td>0</td>\n",
       "      <td>0</td>\n",
       "      <td>0</td>\n",
       "      <td>0</td>\n",
       "      <td>0</td>\n",
       "      <td>...</td>\n",
       "      <td>0</td>\n",
       "      <td>0</td>\n",
       "      <td>0</td>\n",
       "      <td>0</td>\n",
       "      <td>0</td>\n",
       "      <td>0</td>\n",
       "      <td>0</td>\n",
       "      <td>0</td>\n",
       "      <td>0</td>\n",
       "      <td>0</td>\n",
       "    </tr>\n",
       "    <tr>\n",
       "      <th>3</th>\n",
       "      <td>4</td>\n",
       "      <td>0</td>\n",
       "      <td>0</td>\n",
       "      <td>0</td>\n",
       "      <td>0</td>\n",
       "      <td>0</td>\n",
       "      <td>0</td>\n",
       "      <td>0</td>\n",
       "      <td>0</td>\n",
       "      <td>0</td>\n",
       "      <td>...</td>\n",
       "      <td>0</td>\n",
       "      <td>0</td>\n",
       "      <td>0</td>\n",
       "      <td>0</td>\n",
       "      <td>0</td>\n",
       "      <td>0</td>\n",
       "      <td>0</td>\n",
       "      <td>0</td>\n",
       "      <td>0</td>\n",
       "      <td>0</td>\n",
       "    </tr>\n",
       "    <tr>\n",
       "      <th>4</th>\n",
       "      <td>0</td>\n",
       "      <td>0</td>\n",
       "      <td>0</td>\n",
       "      <td>0</td>\n",
       "      <td>0</td>\n",
       "      <td>0</td>\n",
       "      <td>0</td>\n",
       "      <td>0</td>\n",
       "      <td>0</td>\n",
       "      <td>0</td>\n",
       "      <td>...</td>\n",
       "      <td>0</td>\n",
       "      <td>0</td>\n",
       "      <td>0</td>\n",
       "      <td>0</td>\n",
       "      <td>0</td>\n",
       "      <td>0</td>\n",
       "      <td>0</td>\n",
       "      <td>0</td>\n",
       "      <td>0</td>\n",
       "      <td>0</td>\n",
       "    </tr>\n",
       "  </tbody>\n",
       "</table>\n",
       "<p>5 rows × 785 columns</p>\n",
       "</div>"
      ],
      "text/plain": [
       "   label  pixel0  pixel1  pixel2  pixel3  pixel4  pixel5  pixel6  pixel7  \\\n",
       "0      1       0       0       0       0       0       0       0       0   \n",
       "1      0       0       0       0       0       0       0       0       0   \n",
       "2      1       0       0       0       0       0       0       0       0   \n",
       "3      4       0       0       0       0       0       0       0       0   \n",
       "4      0       0       0       0       0       0       0       0       0   \n",
       "\n",
       "   pixel8  ...  pixel774  pixel775  pixel776  pixel777  pixel778  pixel779  \\\n",
       "0       0  ...         0         0         0         0         0         0   \n",
       "1       0  ...         0         0         0         0         0         0   \n",
       "2       0  ...         0         0         0         0         0         0   \n",
       "3       0  ...         0         0         0         0         0         0   \n",
       "4       0  ...         0         0         0         0         0         0   \n",
       "\n",
       "   pixel780  pixel781  pixel782  pixel783  \n",
       "0         0         0         0         0  \n",
       "1         0         0         0         0  \n",
       "2         0         0         0         0  \n",
       "3         0         0         0         0  \n",
       "4         0         0         0         0  \n",
       "\n",
       "[5 rows x 785 columns]"
      ]
     },
     "execution_count": 3,
     "metadata": {},
     "output_type": "execute_result"
    }
   ],
   "source": [
    "data.head()"
   ]
  },
  {
   "cell_type": "code",
   "execution_count": 4,
   "metadata": {},
   "outputs": [],
   "source": [
    "# using numpy arrays to apply linear algebra\n",
    "data = np.array(data)\n",
    "r, c = data.shape\n",
    "np.random.shuffle(data)\n",
    "\n",
    "# splitting into train and val sets\n",
    "data_val = data[0:1000].T\n",
    "Y_test = data_val[0]\n",
    "X_test = data_val[1:c]\n",
    "X_test = X_test / 255.\n",
    "\n",
    "data_train = data[1000:r].T\n",
    "Y_train = data_train[0]\n",
    "X_train = data_train[1:c]\n",
    "X_train = X_train / 255.\n"
   ]
  },
  {
   "cell_type": "code",
   "execution_count": 5,
   "metadata": {},
   "outputs": [],
   "source": [
    "# initialise all the parameters we need\n",
    "def init_params():\n",
    "    W1 = np.random.rand(10, 784) - 0.5\n",
    "    b1 = np.random.rand(10, 1) - 0.5\n",
    "\n",
    "    W2 = np.random.rand(10, 10) - 0.5\n",
    "    b2 = np.random.rand(10, 1) - 0.5\n",
    "    \n",
    "    return W1, b1, W2, b2"
   ]
  },
  {
   "cell_type": "code",
   "execution_count": 6,
   "metadata": {},
   "outputs": [],
   "source": [
    "# we are going to use the relu and softmax functions, let's define them:\n",
    "def ReLU(Z):\n",
    "    return np.maximum(Z, 0)\n",
    "\n",
    "def softmax(Z):\n",
    "    return np.exp(Z) / sum(np.exp(Z))\n",
    "\n",
    "# derivative of relu\n",
    "def der_ReLU(Z):\n",
    "    return Z > 0"
   ]
  },
  {
   "cell_type": "code",
   "execution_count": 7,
   "metadata": {},
   "outputs": [],
   "source": [
    "# one hot encoding function\n",
    "def oh_encoder(Y):\n",
    "    oh_Y = np.zeros((Y.size, Y.max() + 1))\n",
    "    oh_Y[np.arange(Y.size), Y] = 1\n",
    "    oh_Y = oh_Y.T\n",
    "    return oh_Y"
   ]
  },
  {
   "cell_type": "code",
   "execution_count": 8,
   "metadata": {},
   "outputs": [],
   "source": [
    "# define de forward pass\n",
    "def forward(W1, b1, W2, b2, X):\n",
    "    Z1 = W1.dot(X) + b1\n",
    "    A1 = ReLU(Z1)\n",
    "\n",
    "    Z2 = W2.dot(A1) + b2\n",
    "    A2 = softmax(Z2)\n",
    "\n",
    "    return Z1, A1, Z2, A2"
   ]
  },
  {
   "cell_type": "code",
   "execution_count": 9,
   "metadata": {},
   "outputs": [],
   "source": [
    "# define the backpropagation function\n",
    "def back_propagation(Z1, A1, Z2, A2, W2, X, Y):\n",
    "    r = Y.size\n",
    "    oh_Y = oh_encoder(Y)\n",
    "\n",
    "    dZ2 = A2 - oh_Y\n",
    "    dW2 = 1 /  r * dZ2.dot(A1.T)\n",
    "    db2 = 1 / r * np.sum(dZ2)\n",
    "\n",
    "    dZ1 = W2.T.dot(dZ2) * der_ReLU(Z1)\n",
    "    dW1 = 1 /  r * dZ1.dot(X.T)\n",
    "    db1 = 1 / r * np.sum(dZ1)\n",
    "\n",
    "    return dW1, db1, dW2, db2"
   ]
  },
  {
   "cell_type": "code",
   "execution_count": 10,
   "metadata": {},
   "outputs": [],
   "source": [
    "# define the update parameters function\n",
    "def upd_params(W1, b1, W2, b2, dW1, db1, dW2, db2, alpha):\n",
    "    W1 = W1 - alpha * dW1\n",
    "    b1 = b1 - alpha * db1\n",
    "    W2 = W2 - alpha * dW2\n",
    "    b2 = b2 - alpha * db2\n",
    "    return W1, b1, W2, b2"
   ]
  },
  {
   "cell_type": "code",
   "execution_count": 11,
   "metadata": {},
   "outputs": [],
   "source": [
    "# define the gradient descent method\n",
    "def grad_descent(X, Y, iter, alpha):\n",
    "    W1, b1, W2, b2 = init_params()\n",
    "\n",
    "    accuracy = []\n",
    "\n",
    "    for i in range(iter):\n",
    "        Z1, A1, Z2, A2 = forward(W1, b1, W2, b2, X)\n",
    "        dW1, db1, dW2, db2 = back_propagation(Z1, A1, Z2, A2, W2, X, Y)\n",
    "        W1, b1, W2, b2 = upd_params(W1, b1, W2, b2, dW1, db1, dW2, db2, alpha)\n",
    "\n",
    "        accuracy.append(get_accuracy(get_preds(A2), Y))\n",
    "\n",
    "        if i % 50 == 0:\n",
    "            print('Iteration: ', i)\n",
    "            print('Accuracy: ', accuracy[-1])\n",
    "            print('--------------------------------------')\n",
    "\n",
    "    return accuracy, W1, b1, W2, b2"
   ]
  },
  {
   "cell_type": "code",
   "execution_count": 12,
   "metadata": {},
   "outputs": [],
   "source": [
    "# UTILITY FUNCTIONS\n",
    "\n",
    "# get the predictions\n",
    "def get_preds(A2):\n",
    "    return np.argmax(A2, 0)\n",
    "\n",
    "# get the accuracy from the predictions\n",
    "def get_accuracy(predictions, Y):\n",
    "    return np.sum(predictions == Y) / Y.size\n",
    "\n",
    "# make predictions with trained model\n",
    "def predictor(X, W1, b1, W2, b2):\n",
    "    _, _, _, A2 = forward(W1, b1, W2, b2, X)\n",
    "    preds = get_preds(A2)\n",
    "    return preds\n",
    "\n",
    "# test predictions on a particular image\n",
    "def test_image(image_idx, W1, b1, W2, b2):\n",
    "    image = X_test[:, image_idx, None]\n",
    "    pred = predictor(image, W1, b1, W2, b2)\n",
    "    true_label = Y_test[image_idx]\n",
    "\n",
    "    print('Predicted number: ', pred)\n",
    "    print('True number: ', true_label)\n",
    "\n",
    "    image_plot = image.reshape((28, 28)) * 255\n",
    "    plt.figure()\n",
    "    plt.gray()\n",
    "    plt.imshow(image_plot, interpolation = 'nearest')\n",
    "    plt.show()\n",
    "\n"
   ]
  },
  {
   "cell_type": "code",
   "execution_count": 13,
   "metadata": {},
   "outputs": [
    {
     "name": "stdout",
     "output_type": "stream",
     "text": [
      "Iteration:  0\n",
      "Accuracy:  0.07265853658536585\n",
      "--------------------------------------\n",
      "Iteration:  50\n",
      "Accuracy:  0.49421951219512195\n",
      "--------------------------------------\n",
      "Iteration:  100\n",
      "Accuracy:  0.6337560975609756\n",
      "--------------------------------------\n",
      "Iteration:  150\n",
      "Accuracy:  0.7064634146341463\n",
      "--------------------------------------\n",
      "Iteration:  200\n",
      "Accuracy:  0.7486585365853659\n",
      "--------------------------------------\n",
      "Iteration:  250\n",
      "Accuracy:  0.7794878048780488\n",
      "--------------------------------------\n",
      "Iteration:  300\n",
      "Accuracy:  0.8023658536585366\n",
      "--------------------------------------\n",
      "Iteration:  350\n",
      "Accuracy:  0.818780487804878\n",
      "--------------------------------------\n",
      "Iteration:  400\n",
      "Accuracy:  0.8312195121951219\n",
      "--------------------------------------\n",
      "Iteration:  450\n",
      "Accuracy:  0.8405853658536585\n",
      "--------------------------------------\n",
      "Iteration:  500\n",
      "Accuracy:  0.8471219512195122\n",
      "--------------------------------------\n",
      "Iteration:  550\n",
      "Accuracy:  0.8539512195121951\n",
      "--------------------------------------\n",
      "Iteration:  600\n",
      "Accuracy:  0.8591463414634146\n",
      "--------------------------------------\n",
      "Iteration:  650\n",
      "Accuracy:  0.8630731707317073\n",
      "--------------------------------------\n",
      "Iteration:  700\n",
      "Accuracy:  0.8667560975609756\n",
      "--------------------------------------\n",
      "Iteration:  750\n",
      "Accuracy:  0.8700487804878049\n",
      "--------------------------------------\n"
     ]
    }
   ],
   "source": [
    "# Training \n",
    "ITER = 800\n",
    "ALPHA = 0.1\n",
    "\n",
    "accuracy, W1, b1, W2, b2 = grad_descent(X_train, Y_train, ITER, ALPHA)"
   ]
  },
  {
   "cell_type": "code",
   "execution_count": 17,
   "metadata": {},
   "outputs": [
    {
     "data": {
      "image/png": "[encoded data removed]",
      "text/plain": [
       "<Figure size 432x288 with 1 Axes>"
      ]
     },
     "metadata": {
      "needs_background": "light"
     },
     "output_type": "display_data"
    }
   ],
   "source": [
    "# plot the evolution of the accuracy over the epochs\n",
    "plt.figure()\n",
    "plt.plot(np.arange(ITER), accuracy)\n",
    "plt.title('Evolution of the traning accuracy over the epochs')\n",
    "plt.xlabel('Epochs')\n",
    "plt.ylabel('Accuracy')\n",
    "plt.show()"
   ]
  },
  {
   "cell_type": "code",
   "execution_count": 18,
   "metadata": {},
   "outputs": [
    {
     "name": "stdout",
     "output_type": "stream",
     "text": [
      "Predicted number:  [9]\n",
      "True number:  9\n"
     ]
    },
    {
     "data": {
      "image/png": "[encoded data removed]",
      "text/plain": [
       "<Figure size 432x288 with 1 Axes>"
      ]
     },
     "metadata": {
      "needs_background": "light"
     },
     "output_type": "display_data"
    }
   ],
   "source": [
    "test_image(4, W1, b1, W2, b2)"
   ]
  },
  {
   "cell_type": "code",
   "execution_count": 19,
   "metadata": {},
   "outputs": [
    {
     "name": "stdout",
     "output_type": "stream",
     "text": [
      "Test Accuracy:  0.871\n"
     ]
    }
   ],
   "source": [
    "# Compute the accuracy of the test data\n",
    "test_preds = predictor(X_test, W1, b1, W2, b2)\n",
    "print('Test Accuracy: ', get_accuracy(test_preds, Y_test))"
   ]
  }
 ],
 "metadata": {
  "interpreter": {
   "hash": "44262ee905283ee42f85fea51c9e0ec5fdc28d9f338f83643f6f55bdb4ea8700"
  },
  "kernelspec": {
   "display_name": "Python 3.8.0 64-bit",
   "language": "python",
   "name": "python3"
  },
  "language_info": {
   "codemirror_mode": {
    "name": "ipython",
    "version": 3
   },
   "file_extension": ".py",
   "mimetype": "text/x-python",
   "name": "python",
   "nbconvert_exporter": "python",
   "pygments_lexer": "ipython3",
   "version": "3.8.0"
  },
  "orig_nbformat": 4
 },
 "nbformat": 4,
 "nbformat_minor": 2
}
